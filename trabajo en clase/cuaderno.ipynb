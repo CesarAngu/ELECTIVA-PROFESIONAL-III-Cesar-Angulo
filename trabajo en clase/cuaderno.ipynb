{
 "cells": [
  {
   "cell_type": "markdown",
   "id": "e04f761c",
   "metadata": {},
   "source": [
    "hacer una funcion que sume dos numeros"
   ]
  },
  {
   "cell_type": "code",
   "execution_count": 1,
   "id": "bc4415c5",
   "metadata": {},
   "outputs": [],
   "source": [
    "def sumar_dos_numeros(a,b)->int:\n",
    "    return a + b "
   ]
  },
  {
   "cell_type": "markdown",
   "id": "2ba53a8f",
   "metadata": {},
   "source": [
    "Una dola linea"
   ]
  },
  {
   "cell_type": "code",
   "execution_count": 2,
   "id": "c55fb493",
   "metadata": {},
   "outputs": [],
   "source": [
    "sumar_dos_numeros_2= lambda a,b: a+b "
   ]
  },
  {
   "cell_type": "code",
   "execution_count": 3,
   "id": "7d3dae56",
   "metadata": {},
   "outputs": [
    {
     "data": {
      "text/plain": [
       "5"
      ]
     },
     "execution_count": 3,
     "metadata": {},
     "output_type": "execute_result"
    }
   ],
   "source": [
    "sumar_dos_numeros(2,3)"
   ]
  }
 ],
 "metadata": {
  "kernelspec": {
   "display_name": "Python 3",
   "language": "python",
   "name": "python3"
  },
  "language_info": {
   "codemirror_mode": {
    "name": "ipython",
    "version": 3
   },
   "file_extension": ".py",
   "mimetype": "text/x-python",
   "name": "python",
   "nbconvert_exporter": "python",
   "pygments_lexer": "ipython3",
   "version": "3.10.11"
  }
 },
 "nbformat": 4,
 "nbformat_minor": 5
}
